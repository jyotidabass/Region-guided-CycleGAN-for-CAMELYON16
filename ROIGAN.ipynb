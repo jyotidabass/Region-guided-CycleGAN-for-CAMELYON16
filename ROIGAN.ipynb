{
  "nbformat": 4,
  "nbformat_minor": 0,
  "metadata": {
    "colab": {
      "provenance": [],
      "collapsed_sections": [],
      "include_colab_link": true
    },
    "kernelspec": {
      "name": "python3",
      "display_name": "Python 3"
    },
    "language_info": {
      "name": "python"
    },
    "accelerator": "GPU"
  },
  "cells": [
    {
      "cell_type": "markdown",
      "metadata": {
        "id": "view-in-github",
        "colab_type": "text"
      },
      "source": [
        "<a href=\"https://colab.research.google.com/github/jyotidabass/Region-guided-CycleGAN-for-CAMELYON16/blob/main/ROIGAN.ipynb\" target=\"_parent\"><img src=\"https://colab.research.google.com/assets/colab-badge.svg\" alt=\"Open In Colab\"/></a>"
      ]
    },
    {
      "cell_type": "markdown",
      "metadata": {
        "id": "n-Jpa6u4vPAZ"
      },
      "source": [
        "# Region-guided CycleGAN trained on CAMELYON16"
      ]
    },
    {
      "cell_type": "code",
      "metadata": {
        "colab": {
          "base_uri": "https://localhost:8080/"
        },
        "id": "f0Q62oybNlBx",
        "outputId": "f818265d-4c4e-467c-f0d1-49222c6ef6f1"
      },
      "source": [
        "!git clone https://github.com/jcboyd/miccai2022-roigan\n",
        "!mv miccai2022-roigan/src .\n",
        "!wget https://nextcloud.centralesupelec.fr/s/yTM7gnyFFMzHzYR/download/G_AB_CAMELYON.pth -O G_AB_CAMELYON.pth\n",
        "!wget https://nextcloud.centralesupelec.fr/s/TR9FycPNFsAxN5m/download/G_AB_GR.pth -O G_AB_GR.pth\n",
        "!wget https://nextcloud.centralesupelec.fr/s/bWqTcA7x8W7EBQP/download/x_samples.h5 -O x_samples.h5"
      ],
      "execution_count": 5,
      "outputs": [
        {
          "output_type": "stream",
          "name": "stdout",
          "text": [
            "fatal: destination path 'miccai2022-roigan' already exists and is not an empty directory.\n",
            "mv: cannot stat 'miccai2022-roigan/src': No such file or directory\n",
            "--2022-09-19 06:33:16--  https://nextcloud.centralesupelec.fr/s/yTM7gnyFFMzHzYR/download/G_AB_CAMELYON.pth\n",
            "Resolving nextcloud.centralesupelec.fr (nextcloud.centralesupelec.fr)... 65.109.18.169\n",
            "Connecting to nextcloud.centralesupelec.fr (nextcloud.centralesupelec.fr)|65.109.18.169|:443... connected.\n",
            "HTTP request sent, awaiting response... 200 OK\n",
            "Length: 31364153 (30M) [application/octet-stream]\n",
            "Saving to: ‘G_AB_CAMELYON.pth’\n",
            "\n",
            "G_AB_CAMELYON.pth   100%[===================>]  29.91M  14.6MB/s    in 2.0s    \n",
            "\n",
            "2022-09-19 06:33:19 (14.6 MB/s) - ‘G_AB_CAMELYON.pth’ saved [31364153/31364153]\n",
            "\n",
            "--2022-09-19 06:33:20--  https://nextcloud.centralesupelec.fr/s/TR9FycPNFsAxN5m/download/G_AB_GR.pth\n",
            "Resolving nextcloud.centralesupelec.fr (nextcloud.centralesupelec.fr)... 65.109.18.169\n",
            "Connecting to nextcloud.centralesupelec.fr (nextcloud.centralesupelec.fr)|65.109.18.169|:443... connected.\n",
            "HTTP request sent, awaiting response... 200 OK\n",
            "Length: 45530901 (43M) [application/octet-stream]\n",
            "Saving to: ‘G_AB_GR.pth’\n",
            "\n",
            "G_AB_GR.pth         100%[===================>]  43.42M  16.5MB/s    in 2.6s    \n",
            "\n",
            "2022-09-19 06:33:23 (16.5 MB/s) - ‘G_AB_GR.pth’ saved [45530901/45530901]\n",
            "\n",
            "--2022-09-19 06:33:23--  https://nextcloud.centralesupelec.fr/s/bWqTcA7x8W7EBQP/download/x_samples.h5\n",
            "Resolving nextcloud.centralesupelec.fr (nextcloud.centralesupelec.fr)... 65.109.18.169\n",
            "Connecting to nextcloud.centralesupelec.fr (nextcloud.centralesupelec.fr)|65.109.18.169|:443... connected.\n",
            "HTTP request sent, awaiting response... 200 OK\n",
            "Length: 145491968 (139M) [application/octet-stream]\n",
            "Saving to: ‘x_samples.h5’\n",
            "\n",
            "x_samples.h5        100%[===================>] 138.75M  23.9MB/s    in 6.6s    \n",
            "\n",
            "2022-09-19 06:33:31 (21.0 MB/s) - ‘x_samples.h5’ saved [145491968/145491968]\n",
            "\n"
          ]
        }
      ]
    },
    {
      "cell_type": "markdown",
      "metadata": {
        "id": "HQZbp8hPQumu"
      },
      "source": [
        "## Test model"
      ]
    },
    {
      "cell_type": "code",
      "metadata": {
        "id": "tP5ywtx4Ob0v"
      },
      "source": [
        "import h5py\n",
        "import torch\n",
        "from src.models import GeneratorResNet\n",
        "\n",
        "# model = GeneratorResNet((3, 256, 256), 6)\n",
        "# model.load_state_dict(torch.load('G_AB_CAMELYON.pth', map_location='cpu'))\n",
        "model = GeneratorResNet((3, 256, 256), 9)\n",
        "model.load_state_dict(torch.load('G_AB_GR.pth', map_location='cpu'))\n",
        "\n",
        "model = model.eval()\n",
        "\n",
        "x = h5py.File('x_samples.h5', 'r')['x']"
      ],
      "execution_count": 6,
      "outputs": []
    },
    {
      "cell_type": "code",
      "source": [
        "import numpy as np\n",
        "import matplotlib.pyplot as plt\n",
        "from torchvision.utils import make_grid\n",
        "\n",
        "idx = np.random.choice(np.arange(x.shape[0]), size=(16,), replace=False)\n",
        "\n",
        "x_batch = torch.Tensor(x[sorted(idx)]).permute(0, 3, 1, 2)\n",
        "x_batch = x_batch / 127.5 - 1\n",
        "output = model(x_batch)\n",
        "\n",
        "fig, axes = plt.subplots(ncols=2, figsize=(16, 8))\n",
        "\n",
        "axes[0].imshow(make_grid(0.5 * x_batch + 0.5, nrow=4).permute((1, 2, 0)))\n",
        "axes[1].imshow(make_grid(0.5 * output + 0.5, nrow=4).permute((1, 2, 0)))"
      ],
      "metadata": {
        "id": "4VH8jVfF6vDc"
      },
      "execution_count": null,
      "outputs": []
    }
  ]
}